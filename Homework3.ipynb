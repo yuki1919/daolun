{
 "cells": [
  {
   "cell_type": "markdown",
   "metadata": {},
   "source": [
    "1.编写 Python程序,判断输入a是否为质数"
   ]
  },
  {
   "cell_type": "code",
   "execution_count": 6,
   "metadata": {},
   "outputs": [
    {
     "name": "stdout",
     "output_type": "stream",
     "text": [
      "notprime\n"
     ]
    }
   ],
   "source": [
    "import math\n",
    "a=int(input())\n",
    "for i in range(2,int(math.sqrt(a)+1)):\n",
    "    if(a%i==0):\n",
    "        print(\"notprime\")\n",
    "        break\n",
    "else:\n",
    "    print(\"isprime\")\n"
   ]
  },
  {
   "cell_type": "markdown",
   "metadata": {},
   "source": [
    "2.用Python实现插入排序该算法，不允许直接调用插入排序函数，需要手动实现其逻辑过程。"
   ]
  },
  {
   "cell_type": "code",
   "execution_count": 14,
   "metadata": {},
   "outputs": [
    {
     "name": "stdout",
     "output_type": "stream",
     "text": [
      "[567, 53, 44, 32, 32, 32, 23, 16, 12, 4, 2]\n"
     ]
    }
   ],
   "source": [
    "data=[12,32,53,32,567,32,23,4,2,16,44]#降序\n",
    "for i in range(1,len(data)):\n",
    "    t=data[i]\n",
    "    while t>data[i-1] and i>=1:\n",
    "        data[i]=data[i-1]\n",
    "        i-=1\n",
    "    data[i]=t\n",
    "print(data)"
   ]
  },
  {
   "cell_type": "markdown",
   "metadata": {},
   "source": [
    "3.用Python实现选择排序该算法，不允许直接调用插入排序函数，需要手动实现其逻辑过程。"
   ]
  },
  {
   "cell_type": "code",
   "execution_count": 15,
   "metadata": {},
   "outputs": [
    {
     "name": "stdout",
     "output_type": "stream",
     "text": [
      "[567, 53, 44, 32, 32, 32, 23, 16, 12, 4, 2]\n"
     ]
    }
   ],
   "source": [
    "data=[12,32,53,32,567,32,23,4,2,16,44]#降序\n",
    "for i in range(len(data)-1):\n",
    "    k=i\n",
    "    for j in range(i+1,len(data)):\n",
    "        if data[k]<data[j]:\n",
    "            k=j\n",
    "    data[k],data[i]=data[i],data[k]\n",
    "print(data)"
   ]
  },
  {
   "cell_type": "markdown",
   "metadata": {},
   "source": [
    "4.用Python实现快速排序该算法，不允许直接调用插入排序函数，需要手动实现其逻辑过程。"
   ]
  },
  {
   "cell_type": "code",
   "execution_count": 14,
   "metadata": {},
   "outputs": [
    {
     "name": "stdout",
     "output_type": "stream",
     "text": [
      "[567, 53, 44, 32, 32, 32, 23, 16, 12, 4, 2]\n"
     ]
    }
   ],
   "source": [
    "def quick_sort(data):\n",
    "    if len(data)<=1:\n",
    "        return data\n",
    "    else:\n",
    "        s=data[-1]\n",
    "        middle=0\n",
    "        for i in range(0,len(data)-1):\n",
    "            if data[i]>s:\n",
    "                data[middle],data[i]=data[i],data[middle]\n",
    "                middle+=1\n",
    "        data[middle],data[-1]=data[-1],data[middle]\n",
    "        return quick_sort(data[0:middle])+[s]+quick_sort(data[middle+1:len(data)])\n",
    "data=[12,32,53,32,567,32,23,4,2,16,44]#降序\n",
    "data=quick_sort(data)\n",
    "print(data)\n"
   ]
  },
  {
   "cell_type": "markdown",
   "metadata": {},
   "source": [
    "5.使用 Python 随机生成三组长度递增的随机数列，长度分别为100、1000、10000，对生成的随机数组使用不同的排序算法，例如选择排序和归并排序，至少三种排序方法。对这些数列的数据排序，并分析不同排序算法在不同长度数列下的运行效果，例如运行时间等指标。"
   ]
  },
  {
   "cell_type": "code",
   "execution_count": 21,
   "metadata": {},
   "outputs": [
    {
     "name": "stdout",
     "output_type": "stream",
     "text": [
      "100\n",
      "0.072ms quicksort 0.110ms selectionsort 0.114ms insertsort \n",
      "1000\n",
      "0.732ms quicksort 11.154ms selectionsort 11.788ms insertsort \n",
      "10000\n",
      "10.241ms quicksort 1130.004ms selectionsort 1312.430ms insertsort \n"
     ]
    }
   ],
   "source": [
    "import random\n",
    "import timeit\n",
    "def quick_sort(data):\n",
    "    if len(data)<=1:\n",
    "        return data\n",
    "    else:\n",
    "        s=data[-1]\n",
    "        middle=0\n",
    "        for i in range(0,len(data)-1):\n",
    "            if data[i]>s:\n",
    "                data[middle],data[i]=data[i],data[middle]\n",
    "                middle+=1\n",
    "        data[middle],data[-1]=data[-1],data[middle]\n",
    "        return quick_sort(data[0:middle])+[s]+quick_sort(data[middle+1:len(data)])\n",
    "def selection_sort(data):\n",
    "    for i in range(len(data)-1):\n",
    "        k=i\n",
    "        for j in range(i+1,len(data)):\n",
    "            if data[k]<data[j]:\n",
    "                k=j\n",
    "        data[k],data[i]=data[i],data[k]\n",
    "    return data\n",
    "def insert_sort(data):\n",
    "    for i in range(1,len(data)):\n",
    "        t=data[i]\n",
    "        while t>data[i-1] and i>=1:\n",
    "            data[i]=data[i-1]\n",
    "            i-=1\n",
    "        data[i]=t   \n",
    "    return data\n",
    "def time_test(data):\n",
    "    data1=[random.randint(0,1000) for i in range(data)]\n",
    "    data2=[random.randint(0,1000) for i in range(data)]\n",
    "    data3=[random.randint(0,1000) for i in range(data)]\n",
    "    t1=timeit.default_timer()\n",
    "    quick_sort(data1)\n",
    "    t2=timeit.default_timer()\n",
    "    print(\"%.3f\"%((t2-t1)*1000),end='ms quicksort ')\n",
    "    t1=timeit.default_timer()\n",
    "    selection_sort(data2)\n",
    "    t2=timeit.default_timer()\n",
    "    print(\"%.3f\"%((t2-t1)*1000),end='ms selectionsort ')\n",
    "    t1=timeit.default_timer()\n",
    "    insert_sort(data3)\n",
    "    t2=timeit.default_timer()\n",
    "    print(\"%.3f\"%((t2-t1)*1000),end='ms insertsort \\n')\n",
    "print(\"100\")\n",
    "time_test(100)\n",
    "print(\"1000\")\n",
    "time_test(1000)\n",
    "print(\"10000\")\n",
    "time_test(10000)\n",
    "\n"
   ]
  },
  {
   "cell_type": "markdown",
   "metadata": {},
   "source": [
    "6.使用python代码获取当前系统时间"
   ]
  },
  {
   "cell_type": "code",
   "execution_count": 22,
   "metadata": {},
   "outputs": [
    {
     "name": "stdout",
     "output_type": "stream",
     "text": [
      "2024-10-15 17:50:42.028081\n"
     ]
    }
   ],
   "source": [
    "from datetime import datetime\n",
    "print(datetime.now())"
   ]
  },
  {
   "cell_type": "markdown",
   "metadata": {},
   "source": [
    "7.homework/data文件夹下的stuGrade.csv文件中包含5位同学的学号、语文成绩、数学成绩和英语成绩，请先用记事本打开该文件，查看文件内容，然后编写Python程序，读取该文件，并计算出各科的平均成绩（保留2位小数）。"
   ]
  },
  {
   "cell_type": "code",
   "execution_count": 27,
   "metadata": {},
   "outputs": [
    {
     "name": "stdout",
     "output_type": "stream",
     "text": [
      "   stuID  chinese  math  english\n",
      "0  10381       74    87       82\n",
      "1  10382       92    88       90\n",
      "2  10383       87    82       81\n",
      "3  10384       98    97       96\n",
      "4  10385       62    51       60\n",
      "chinese    82.6\n",
      "math       81.0\n",
      "english    81.8\n",
      "dtype: float64\n"
     ]
    }
   ],
   "source": [
    "import pandas as pd \n",
    "stu=pd.read_csv(\"stuGrade.csv\")\n",
    "print(stu)\n",
    "df=stu[[\"chinese\",\"math\",\"english\"]]\n",
    "print(df.mean())\n",
    "\n",
    "\n"
   ]
  },
  {
   "cell_type": "markdown",
   "metadata": {},
   "source": [
    "8.请在第7题的代码继续编写Python程序，将以下内容写入my.txt文件中，一并上传到github中。"
   ]
  },
  {
   "cell_type": "code",
   "execution_count": 29,
   "metadata": {},
   "outputs": [
    {
     "name": "stdout",
     "output_type": "stream",
     "text": [
      "   stuID  chinese  math  english\n",
      "0  10381       74    87       82\n",
      "1  10382       92    88       90\n",
      "2  10383       87    82       81\n",
      "3  10384       98    97       96\n",
      "4  10385       62    51       60\n"
     ]
    }
   ],
   "source": [
    "import pandas as pd \n",
    "stu=pd.read_csv(\"stuGrade.csv\")\n",
    "print(stu)\n",
    "df=stu[[\"chinese\",\"math\",\"english\"]]\n",
    "with open('my.txt', 'w', encoding='utf-8') as f:\n",
    "    f.write(str(df.mean()))"
   ]
  }
 ],
 "metadata": {
  "kernelspec": {
   "display_name": "Python 3",
   "language": "python",
   "name": "python3"
  },
  "language_info": {
   "codemirror_mode": {
    "name": "ipython",
    "version": 3
   },
   "file_extension": ".py",
   "mimetype": "text/x-python",
   "name": "python",
   "nbconvert_exporter": "python",
   "pygments_lexer": "ipython3",
   "version": "3.11.5"
  }
 },
 "nbformat": 4,
 "nbformat_minor": 2
}
