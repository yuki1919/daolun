{
 "cells": [
  {
   "cell_type": "markdown",
   "metadata": {},
   "source": [
    "## 数据探索与可视化"
   ]
  },
  {
   "cell_type": "markdown",
   "metadata": {},
   "source": [
    "### 实验目标\n",
    "- 学习并掌握如何使用Python进行数据探索与可视化。\n",
    "- 理解并应用数据探索的基本方法，包括数据清洗、格式化和描述性统计分析。\n",
    "- 使用Matplotlib和Seaborn等可视化工具，绘制不同类型的图表，分析数据分布及特征之间的关系。\n",
    "- 利用pandas_profiling生成数据的交互式报告，全面了解数据的分布、缺失值和异常值。\n",
    "\n",
    "### 实验要求\n",
    "\n",
    "1. 使用pandas读取数据集github_bot_processed_data.csv。探索pandas的显示选项，以便查看更多数据行和列。\n",
    "2. 使用head()方法查看数据的前几行，并使用info()方法查看每列的数据类型，观察两者的区别。\n",
    "使用describe()方法生成数据的描述性统计信息。\n",
    "3. 对数据进行格式化处理，并展示不同格式（例如，日期、货币、百分比等）的效果。\n",
    "4. 对public_repos、public_gists、followers、following等列进行对数变换，并查看其影响。\n",
    "5. 使用Matplotlib绘制图表\n",
    "    - 绘制条形图：展示label列的类别分布。\n",
    "    - 绘制堆积柱状图：展示多个布尔特征（如site_admin、company等）的分布。\n",
    "    - 绘制直方图：展示log_public_repos的对数变换后的数据分布。\n",
    "    - 绘制散点图：展示public_repos与followers之间的关系。\n",
    "    - 绘制散点矩阵：展示多个数值型特征之间的成对关系。\n",
    "6. 使用Seaborn绘制图表\n",
    "    - 绘制箱线图：展示不同label类别下log_followers的分布。\n",
    "    - 绘制成对图：展示不同特征之间的成对关系，并根据label分类。\n",
    "    - 绘制热图：展示log_public_repos、log_public_gists、log_followers和log_following等特征之间的相关性。\n",
    "    - 绘制小提琴图：展示label与log_followers之间的分布差异。\n",
    "7. 使用pandas_profiling.ProfileReport()生成交互式数据分析报告，分析数据的统计分布、缺失值、异常值等。"
   ]
  },
  {
   "cell_type": "code",
   "execution_count": 3,
   "metadata": {},
   "outputs": [
    {
     "name": "stdout",
     "output_type": "stream",
     "text": [
      "Data head:\n",
      "   label  type  site_admin  company   blog  location  hireable                                                bio  public_repos  public_gists  followers  following                 created_at                 updated_at  text_bot_count\n",
      "0  Human  True       False    False  False     False     False                                                NaN            26             1          5          1  2011-09-26 17:27:03+00:00  2023-10-13 11:21:10+00:00               0\n",
      "1  Human  True       False    False   True     False      True  I just press the buttons randomly, and the pro...            30             3          9          6  2015-06-29 10:12:46+00:00  2023-10-07 06:26:14+00:00               0\n",
      "2  Human  True       False     True   True      True      True         Time is unimportant,\\nonly life important.           103            49       1212        221  2008-08-29 16:20:03+00:00  2023-10-02 02:11:21+00:00               0\n",
      "3    Bot  True       False    False  False      True     False                                                NaN            49             0         84          2  2014-05-20 18:43:09+00:00  2023-10-12 12:54:59+00:00               0\n",
      "4  Human  True       False    False  False     False      True                                                NaN            11             1          6          2  2012-08-16 14:19:13+00:00  2023-10-06 11:58:41+00:00               0\n",
      "\n",
      "Data info:\n",
      "<class 'pandas.core.frame.DataFrame'>\n",
      "RangeIndex: 19768 entries, 0 to 19767\n",
      "Data columns (total 15 columns):\n",
      " #   Column          Non-Null Count  Dtype \n",
      "---  ------          --------------  ----- \n",
      " 0   label           19768 non-null  object\n",
      " 1   type            19768 non-null  bool  \n",
      " 2   site_admin      19768 non-null  bool  \n",
      " 3   company         19768 non-null  bool  \n",
      " 4   blog            19768 non-null  bool  \n",
      " 5   location        19768 non-null  bool  \n",
      " 6   hireable        19768 non-null  bool  \n",
      " 7   bio             8839 non-null   object\n",
      " 8   public_repos    19768 non-null  int64 \n",
      " 9   public_gists    19768 non-null  int64 \n",
      " 10  followers       19768 non-null  int64 \n",
      " 11  following       19768 non-null  int64 \n",
      " 12  created_at      19768 non-null  object\n",
      " 13  updated_at      19768 non-null  object\n",
      " 14  text_bot_count  19768 non-null  int64 \n",
      "dtypes: bool(6), int64(5), object(4)\n",
      "memory usage: 1.5+ MB\n",
      "None\n",
      "\n",
      "Descriptive statistics:\n",
      "        label   type site_admin company   blog location hireable                bio  public_repos  public_gists     followers     following                 created_at                 updated_at  text_bot_count\n",
      "count   19768  19768      19768   19768  19768    19768    19768               8839  19768.000000  19768.000000  19768.000000  19768.000000                      19768                      19768    19768.000000\n",
      "unique      2      2          2       2      2        2        2               8641           NaN           NaN           NaN           NaN                      19767                      19633             NaN\n",
      "top     Human   True      False    True  False     True    False  Software Engineer           NaN           NaN           NaN           NaN  2009-07-15 13:20:42+00:00  2023-10-11 11:21:04+00:00             NaN\n",
      "freq    18578  19597      19678   10794  11256    12691    16470                 77           NaN           NaN           NaN           NaN                          2                          3             NaN\n",
      "mean      NaN    NaN        NaN     NaN    NaN      NaN      NaN                NaN     84.139215     25.214083    245.497015     44.520741                        NaN                        NaN        0.061362\n",
      "std       NaN    NaN        NaN     NaN    NaN      NaN      NaN                NaN    574.750217    635.690142   1535.939961    366.793439                        NaN                        NaN        0.341003\n",
      "min       NaN    NaN        NaN     NaN    NaN      NaN      NaN                NaN      0.000000      0.000000      0.000000      0.000000                        NaN                        NaN        0.000000\n",
      "25%       NaN    NaN        NaN     NaN    NaN      NaN      NaN                NaN     11.000000      0.000000      7.000000      0.000000                        NaN                        NaN        0.000000\n",
      "50%       NaN    NaN        NaN     NaN    NaN      NaN      NaN                NaN     35.000000      2.000000     33.000000      4.000000                        NaN                        NaN        0.000000\n",
      "75%       NaN    NaN        NaN     NaN    NaN      NaN      NaN                NaN     83.000000     10.000000    125.000000     22.000000                        NaN                        NaN        0.000000\n",
      "max       NaN    NaN        NaN     NaN    NaN      NaN      NaN                NaN  50000.000000  55781.000000  95752.000000  27775.000000                        NaN                        NaN        5.000000\n"
     ]
    }
   ],
   "source": [
    "import pandas as pd\n",
    "# 1. 使用pandas读取数据集，并设置显示选项以查看更多行和列\n",
    "pd.set_option('display.max_rows', 500)\n",
    "pd.set_option('display.max_columns', 500)\n",
    "pd.set_option('display.width', 1000)\n",
    "df = pd.read_csv('github_bot_processed_data.csv')\n",
    "# 2. 使用head()查看前几行，info()查看每列的数据类型\n",
    "print(\"Data head:\")\n",
    "print(df.head())\n",
    "print(\"\\nData info:\")\n",
    "print(df.info())\n",
    "# 生成描述性统计信息\n",
    "print(\"\\nDescriptive statistics:\")\n",
    "print(df.describe(include='all'))\n"
   ]
  },
  {
   "cell_type": "code",
   "execution_count": 2,
   "metadata": {},
   "outputs": [
    {
     "name": "stdout",
     "output_type": "stream",
     "text": [
      "             new_created_at                 created_at\n",
      "0 2011-09-26 17:27:03+00:00  2011-09-26 17:27:03+00:00\n",
      "1 2015-06-29 10:12:46+00:00  2015-06-29 10:12:46+00:00\n",
      "2 2008-08-29 16:20:03+00:00  2008-08-29 16:20:03+00:00\n",
      "             new_updated_at                 updated_at\n",
      "0 2023-10-13 11:21:10+00:00  2023-10-13 11:21:10+00:00\n",
      "1 2023-10-07 06:26:14+00:00  2023-10-07 06:26:14+00:00\n",
      "2 2023-10-02 02:11:21+00:00  2023-10-02 02:11:21+00:00\n",
      "   log_public_repos  public_repos\n",
      "0          3.295837            26\n",
      "1          3.433987            30\n",
      "2          4.644391           103\n",
      "   log_public_gists  public_gists\n",
      "0          0.693147             1\n",
      "1          1.386294             3\n",
      "2          3.912023            49\n",
      "   log_followers  followers\n",
      "0       1.791759          5\n",
      "1       2.302585          9\n",
      "2       7.100852       1212\n",
      "   log_following  following\n",
      "0       0.693147          1\n",
      "1       1.945910          6\n",
      "2       5.402677        221\n"
     ]
    }
   ],
   "source": [
    "import pandas as pd\n",
    "import numpy as np\n",
    "df = pd.read_csv('github_bot_processed_data.csv')\n",
    "# 3. 数据格式化处理（日期、货币、百分比等）\n",
    "df['new_created_at'] = pd.to_datetime(df['created_at'])\n",
    "df['new_updated_at'] = pd.to_datetime(df['updated_at'])\n",
    "print(df[['new_created_at','created_at']].head(3))\n",
    "print(df[['new_updated_at','updated_at']].head(3))\n",
    "# 4. 对指定列进行对数变换\n",
    "df['log_public_repos'] = np.log1p(df['public_repos'])\n",
    "df['log_public_gists'] = np.log1p(df['public_gists'])\n",
    "df['log_followers'] = np.log1p(df['followers'])\n",
    "df['log_following'] = np.log1p(df['following'])\n",
    "print(df[['log_public_repos','public_repos']].head(3))\n",
    "print(df[['log_public_gists','public_gists']].head(3))\n",
    "print(df[['log_followers','followers']].head(3))\n",
    "print(df[['log_following','following']].head(3))"
   ]
  },
  {
   "cell_type": "markdown",
   "metadata": {},
   "source": [
    "对数变化让数值差距变得更小，更有利于图像的绘制以及对数据的观测。"
   ]
  },
  {
   "cell_type": "code",
   "execution_count": null,
   "metadata": {},
   "outputs": [],
   "source": [
    "import pandas as pd\n",
    "import numpy as np\n",
    "import matplotlib.pyplot as plt\n",
    "import seaborn as sns\n",
    "df = pd.read_csv('github_bot_processed_data.csv')\n",
    "df['log_public_repos'] = np.log1p(df['public_repos'])\n",
    "df['log_public_gists'] = np.log1p(df['public_gists'])\n",
    "df['log_followers'] = np.log1p(df['followers'])\n",
    "df['log_following'] = np.log1p(df['following'])\n",
    "#5. 使用Matplotlib绘制图表\n",
    "#柱状图\n",
    "plt.figure(figsize=(10, 6))\n",
    "sns.countplot(x='label', data=df)\n",
    "plt.title('Distribution of Label')\n",
    "plt.show()\n",
    "# 堆积柱状图\n",
    "bool_features = ['site_admin', 'company', 'blog', 'location', 'hireable']\n",
    "df[bool_features].sum().plot(kind='barh', stacked=True)\n",
    "plt.title('Stacked Bar Chart of Boolean Features')\n",
    "plt.show()\n",
    "# 直方图 \n",
    "plt.hist(df['log_public_repos'], bins=30, edgecolor='black')\n",
    "plt.title('Histogram of Log Public Repos')\n",
    "plt.show()\n",
    "# 散点图 - public_repos vs followers\n",
    "plt.scatter(df['public_repos'], df['followers'])\n",
    "plt.xlabel('Public Repos')\n",
    "plt.ylabel('Followers')\n",
    "plt.title('Scatter Plot: Public Repos vs Followers')\n",
    "plt.show()\n",
    "# 散点矩阵\n",
    "sns.pairplot(df[['public_repos', 'public_gists', 'followers', 'following']])\n",
    "plt.show()\n",
    "#6. 使用Seaborn绘制高级图表\n",
    "# 箱线图\n",
    "plt.figure(figsize=(10, 6))\n",
    "sns.boxplot(x='label', y='log_followers', data=df)\n",
    "plt.title('Boxplot of Log Followers by Label')\n",
    "plt.show()\n",
    "# 成对关系图\n",
    "sns.pairplot(df, hue='label', vars=['log_public_repos', 'log_public_gists', 'log_followers', 'log_following'])\n",
    "plt.show()\n",
    "# 相关性热图\n",
    "correlation = df[['log_public_repos', 'log_public_gists', 'log_followers', 'log_following']].corr()\n",
    "sns.heatmap(correlation, annot=True, cmap='coolwarm')\n",
    "plt.title('Correlation Heatmap')\n",
    "plt.show()\n",
    "# 小提琴图\n",
    "sns.violinplot(x='label', y='log_followers', data=df)\n",
    "plt.title('Violin Plot of Log Followers by Label')\n",
    "plt.show()\n"
   ]
  },
  {
   "cell_type": "code",
   "execution_count": 1,
   "metadata": {},
   "outputs": [
    {
     "data": {
      "application/vnd.jupyter.widget-view+json": {
       "model_id": "ef233f998dd044d0a372ea1ea26e4779",
       "version_major": 2,
       "version_minor": 0
      },
      "text/plain": [
       "Summarize dataset:   0%|          | 0/5 [00:00<?, ?it/s]"
      ]
     },
     "metadata": {},
     "output_type": "display_data"
    },
    {
     "data": {
      "application/vnd.jupyter.widget-view+json": {
       "model_id": "06465b08a9854d4dbb41b590ac48fc28",
       "version_major": 2,
       "version_minor": 0
      },
      "text/plain": [
       "Generate report structure:   0%|          | 0/1 [00:00<?, ?it/s]"
      ]
     },
     "metadata": {},
     "output_type": "display_data"
    },
    {
     "data": {
      "application/vnd.jupyter.widget-view+json": {
       "model_id": "1015471f27114f3aa51f7090b572e624",
       "version_major": 2,
       "version_minor": 0
      },
      "text/plain": [
       "Render HTML:   0%|          | 0/1 [00:00<?, ?it/s]"
      ]
     },
     "metadata": {},
     "output_type": "display_data"
    },
    {
     "data": {
      "application/vnd.jupyter.widget-view+json": {
       "model_id": "fa5721bd2f3541129e2355ff3ff7d3b7",
       "version_major": 2,
       "version_minor": 0
      },
      "text/plain": [
       "Export report to file:   0%|          | 0/1 [00:00<?, ?it/s]"
      ]
     },
     "metadata": {},
     "output_type": "display_data"
    }
   ],
   "source": [
    "import pandas as pd\n",
    "from ydata_profiling import ProfileReport\n",
    "df = pd.read_csv('github_bot_processed_data.csv')\n",
    "profile = ProfileReport(df, title=\"Data Analysis Report\", explorative=True)\n",
    "profile.to_file(\"report.html\")"
   ]
  }
 ],
 "metadata": {
  "kernelspec": {
   "display_name": "Python 3",
   "language": "python",
   "name": "python3"
  },
  "language_info": {
   "codemirror_mode": {
    "name": "ipython",
    "version": 3
   },
   "file_extension": ".py",
   "mimetype": "text/x-python",
   "name": "python",
   "nbconvert_exporter": "python",
   "pygments_lexer": "ipython3",
   "version": "3.11.5"
  }
 },
 "nbformat": 4,
 "nbformat_minor": 2
}
